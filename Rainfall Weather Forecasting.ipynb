{
 "cells": [
  {
   "cell_type": "code",
   "execution_count": 1,
   "id": "43329ee8",
   "metadata": {},
   "outputs": [],
   "source": [
    "import warnings\n",
    "import pandas as pd\n",
    "import numpy as np\n",
    "import matplotlib.pyplot as plt\n",
    "import seaborn as sns\n",
    "from sklearn.model_selection import train_test_split, cross_val_score\n",
    "from sklearn.preprocessing import StandardScaler\n",
    "from sklearn.linear_model import LinearRegression, Ridge\n",
    "from sklearn.neural_network import MLPRegressor\n",
    "from sklearn.neighbors import KNeighborsRegressor\n",
    "from sklearn.metrics import mean_absolute_error, mean_squared_error\n",
    "from sklearn.ensemble import RandomForestRegressor\n",
    "from sklearn.svm import SVR\n",
    "from sklearn.model_selection import GridSearchCV"
   ]
  },
  {
   "cell_type": "code",
   "execution_count": 2,
   "id": "10b4eaa7",
   "metadata": {},
   "outputs": [],
   "source": [
    "# Suppress warnings\n",
    "warnings.simplefilter(action=\"ignore\", category=FutureWarning)\n",
    "%matplotlib inline"
   ]
  },
  {
   "cell_type": "code",
   "execution_count": 15,
   "id": "c7abb3f8",
   "metadata": {},
   "outputs": [],
   "source": [
    "# Load the dataset\n",
    "df = pd.read_csv(\"https://raw.githubusercontent.com/FlipRoboTechnologies/ML_-Datasets/main/Rainfall%20Forecast/Rainfall.csv\")"
   ]
  },
  {
   "cell_type": "code",
   "execution_count": 16,
   "id": "92a93e1e",
   "metadata": {},
   "outputs": [],
   "source": [
    "# Data preprocessing\n",
    "# Remove unnecessary columns\n",
    "df.drop(columns=[\"Date\", \"Location\", \"RainTomorrow\"], inplace=True)\n",
    "\n",
    "# Handle missing values if any\n",
    "df.dropna(inplace=True)\n",
    "\n",
    "# Convert categorical variables to numerical\n",
    "df = pd.get_dummies(df, columns=[\"WindGustDir\", \"WindDir9am\", \"WindDir3pm\", \"RainToday\"])\n",
    "\n",
    "# Define input (independent variables) and output (dependent variable)\n",
    "X = df.drop(columns=[\"Rainfall\"])\n",
    "y = df[\"Rainfall\"]\n",
    "\n",
    "# Split the data into training and testing sets\n",
    "X_train, X_test, y_train, y_test = train_test_split(X, y, test_size=0.2, random_state=42)\n",
    "\n",
    "# Standardize the data\n",
    "scaler = StandardScaler()\n",
    "X_train_scaled = scaler.fit_transform(X_train)\n",
    "X_test_scaled = scaler.transform(X_test)"
   ]
  },
  {
   "cell_type": "code",
   "execution_count": null,
   "id": "622ff48b",
   "metadata": {},
   "outputs": [
    {
     "name": "stdout",
     "output_type": "stream",
     "text": [
      "Model: Linear Regression\n",
      "Training MAE: 2.67\n",
      "Training RMSE: 6.35\n",
      "Mean Cross-validation RMSE: 6.21\n",
      "========================================\n",
      "Model: Ridge Regression\n",
      "Training MAE: 2.67\n",
      "Training RMSE: 6.35\n",
      "Mean Cross-validation RMSE: 6.21\n",
      "========================================\n"
     ]
    }
   ],
   "source": [
    "# Model training and evaluation\n",
    "models = {\n",
    "    \"Linear Regression\": LinearRegression(),\n",
    "    \"Ridge Regression\": Ridge(),\n",
    "    \"MLP Regressor\": MLPRegressor(max_iter=10000),\n",
    "    \"KNeighbors Regressor\": KNeighborsRegressor(),\n",
    "    \"Random Forest Regressor\": RandomForestRegressor(),\n",
    "    \"SVR Linear Kernel\": SVR(kernel=\"linear\"),\n",
    "    \"SVR RBF Kernel\": SVR(kernel=\"rbf\")\n",
    "}\n",
    "\n",
    "for name, model in models.items():\n",
    "    # Train the model\n",
    "    model.fit(X_train_scaled, y_train)\n",
    "    \n",
    "    # Make predictions\n",
    "    y_pred_train = model.predict(X_train_scaled)\n",
    "    \n",
    "    # Evaluate model performance on training set\n",
    "    mae_train = mean_absolute_error(y_train, y_pred_train)\n",
    "    rmse_train = np.sqrt(mean_squared_error(y_train, y_pred_train))\n",
    "    \n",
    "    # Cross-validation RMSE\n",
    "    cv_scores = cross_val_score(model, X_train_scaled, y_train, scoring=\"neg_mean_squared_error\", cv=10)\n",
    "    cv_rmse_scores = np.sqrt(-cv_scores)\n",
    "    mean_cv_rmse = cv_rmse_scores.mean()\n",
    "    \n",
    "    # Print results\n",
    "    print(f\"Model: {name}\")\n",
    "    print(f\"Training MAE: {mae_train:.2f}\")\n",
    "    print(f\"Training RMSE: {rmse_train:.2f}\")\n",
    "    print(f\"Mean Cross-validation RMSE: {mean_cv_rmse:.2f}\")\n",
    "    print(\"=\" * 40)"
   ]
  },
  {
   "cell_type": "code",
   "execution_count": null,
   "id": "51621bfd",
   "metadata": {},
   "outputs": [],
   "source": [
    "import numpy as np\n",
    "from sklearn.metrics import mean_squared_error, r2_score\n",
    "\n",
    "\n",
    "def calculate_accuracy(y_true, y_pred, tolerance):\n",
    "    return np.mean(np.abs(y_true - y_pred) <= tolerance)\n",
    "\n",
    "\n",
    "best_model = grid_search.best_estimator_\n",
    "y_pred_test = best_model.predict(X_test_scaled)\n",
    "test_rmse = np.sqrt(mean_squared_error(y_test, y_pred_test))\n",
    "test_r2 = r2_score(y_test, y_pred_test)\n",
    "print(f\"Test RMSE with best model: {test_rmse:.2f}\")\n",
    "print(f\"Test R² with best model: {test_r2:.2f}\")\n",
    "\n",
    "\n",
    "tolerance = 16  \n",
    "accuracy = calculate_accuracy(y_test, y_pred_test, tolerance)\n",
    "print(f\"Test Accuracy with tolerance {tolerance}: {accuracy:.2f}\")"
   ]
  },
  {
   "cell_type": "code",
   "execution_count": null,
   "id": "e79936fa",
   "metadata": {},
   "outputs": [],
   "source": []
  }
 ],
 "metadata": {
  "kernelspec": {
   "display_name": "Python 3 (ipykernel)",
   "language": "python",
   "name": "python3"
  },
  "language_info": {
   "codemirror_mode": {
    "name": "ipython",
    "version": 3
   },
   "file_extension": ".py",
   "mimetype": "text/x-python",
   "name": "python",
   "nbconvert_exporter": "python",
   "pygments_lexer": "ipython3",
   "version": "3.11.3"
  }
 },
 "nbformat": 4,
 "nbformat_minor": 5
}
